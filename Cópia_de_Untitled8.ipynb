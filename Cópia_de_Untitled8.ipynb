{
  "cells": [
    {
      "cell_type": "code",
      "execution_count": 1,
      "metadata": {
        "id": "AQDLpJArBAJN"
      },
      "outputs": [],
      "source": [
        "\n",
        "import re\n"
      ]
    },
    {
      "cell_type": "code",
      "execution_count": 2,
      "metadata": {
        "colab": {
          "base_uri": "https://localhost:8080/"
        },
        "id": "7IMico5aGzN-",
        "outputId": "19e5a964-4e0d-42d0-dc12-8c502bdde9e9"
      },
      "outputs": [
        {
          "name": "stdout",
          "output_type": "stream",
          "text": [
            "/home/daniel/Dev/python/wticifes\n"
          ]
        }
      ],
      "source": [
        "!pwd"
      ]
    },
    {
      "cell_type": "code",
      "execution_count": null,
      "metadata": {
        "colab": {
          "base_uri": "https://localhost:8080/",
          "height": 202
        },
        "id": "FVaT1lbkGr1H",
        "outputId": "4be24bb7-dfc5-4c53-82e5-4762a2203184"
      },
      "outputs": [
        {
          "ename": "NameError",
          "evalue": "ignored",
          "output_type": "error",
          "traceback": [
            "\u001b[0;31m---------------------------------------------------------------------------\u001b[0m",
            "\u001b[0;31mNameError\u001b[0m                                 Traceback (most recent call last)",
            "\u001b[0;32m<ipython-input-3-c332b6ba9119>\u001b[0m in \u001b[0;36m<cell line: 2>\u001b[0;34m()\u001b[0m\n\u001b[1;32m      1\u001b[0m \u001b[0mtext_file\u001b[0m \u001b[0;34m=\u001b[0m \u001b[0mopen\u001b[0m\u001b[0;34m(\u001b[0m\u001b[0;34m\"sample_data/txt.txt\"\u001b[0m\u001b[0;34m,\u001b[0m \u001b[0;34m\"w\"\u001b[0m\u001b[0;34m)\u001b[0m\u001b[0;34m\u001b[0m\u001b[0;34m\u001b[0m\u001b[0m\n\u001b[0;32m----> 2\u001b[0;31m \u001b[0mn\u001b[0m \u001b[0;34m=\u001b[0m \u001b[0mtext_file\u001b[0m\u001b[0;34m.\u001b[0m\u001b[0mwrite\u001b[0m\u001b[0;34m(\u001b[0m\u001b[0mtxt\u001b[0m\u001b[0;34m)\u001b[0m\u001b[0;34m\u001b[0m\u001b[0;34m\u001b[0m\u001b[0m\n\u001b[0m\u001b[1;32m      3\u001b[0m \u001b[0mtext_file\u001b[0m\u001b[0;34m.\u001b[0m\u001b[0mclose\u001b[0m\u001b[0;34m(\u001b[0m\u001b[0;34m)\u001b[0m\u001b[0;34m\u001b[0m\u001b[0;34m\u001b[0m\u001b[0m\n",
            "\u001b[0;31mNameError\u001b[0m: name 'txt' is not defined"
          ]
        }
      ],
      "source": [
        "text_file = open(\"sample_data/txt.txt\", \"w\")\n",
        "n = text_file.write(txt)\n",
        "text_file.close()"
      ]
    },
    {
      "cell_type": "markdown",
      "metadata": {
        "id": "TQWC4cJ8J7CW"
      },
      "source": [
        "#Lê o arquivo txt e coloca seu conteúdo em uma variável"
      ]
    },
    {
      "cell_type": "code",
      "execution_count": null,
      "metadata": {
        "colab": {
          "base_uri": "https://localhost:8080/",
          "height": 185
        },
        "id": "NR07qNwjIFSE",
        "outputId": "8bb765a1-d890-45fb-f439-ef3d77620892"
      },
      "outputs": [
        {
          "ename": "FileNotFoundError",
          "evalue": "ignored",
          "output_type": "error",
          "traceback": [
            "\u001b[0;31m---------------------------------------------------------------------------\u001b[0m",
            "\u001b[0;31mFileNotFoundError\u001b[0m                         Traceback (most recent call last)",
            "\u001b[0;32m<ipython-input-4-b896affc4e5d>\u001b[0m in \u001b[0;36m<cell line: 1>\u001b[0;34m()\u001b[0m\n\u001b[0;32m----> 1\u001b[0;31m \u001b[0;32mwith\u001b[0m \u001b[0mopen\u001b[0m\u001b[0;34m(\u001b[0m\u001b[0;34m'/content/txt.txt'\u001b[0m\u001b[0;34m,\u001b[0m \u001b[0;34m'r'\u001b[0m\u001b[0;34m)\u001b[0m \u001b[0;32mas\u001b[0m \u001b[0mfile\u001b[0m\u001b[0;34m:\u001b[0m\u001b[0;34m\u001b[0m\u001b[0;34m\u001b[0m\u001b[0m\n\u001b[0m\u001b[1;32m      2\u001b[0m     \u001b[0mtxt\u001b[0m \u001b[0;34m=\u001b[0m \u001b[0mfile\u001b[0m\u001b[0;34m.\u001b[0m\u001b[0mread\u001b[0m\u001b[0;34m(\u001b[0m\u001b[0;34m)\u001b[0m\u001b[0;34m.\u001b[0m\u001b[0mreplace\u001b[0m\u001b[0;34m(\u001b[0m\u001b[0;34m'\\n'\u001b[0m\u001b[0;34m,\u001b[0m \u001b[0;34m''\u001b[0m\u001b[0;34m)\u001b[0m\u001b[0;34m\u001b[0m\u001b[0;34m\u001b[0m\u001b[0m\n",
            "\u001b[0;31mFileNotFoundError\u001b[0m: [Errno 2] No such file or directory: '/content/txt.txt'"
          ]
        }
      ],
      "source": [
        "with open('/content/txt.txt', 'r') as file:\n",
        "    txt = file.read().replace('\\n', '')\n"
      ]
    },
    {
      "cell_type": "markdown",
      "metadata": {
        "id": "Nrul8tKGKS1K"
      },
      "source": [
        "#Busca os trechos especificados e os coloca em uma lista"
      ]
    },
    {
      "cell_type": "code",
      "execution_count": null,
      "metadata": {
        "colab": {
          "base_uri": "https://localhost:8080/"
        },
        "id": "y85kaGyhuPd2",
        "outputId": "bb758e65-a01c-4b8f-bea8-889f6de5e08e"
      },
      "outputs": [
        {
          "name": "stdout",
          "output_type": "stream",
          "text": [
            "Este artigo tem como objetivo expor uma experiŒncia da aplica ªo de uma tecnologia Ægil de desenvolvimento de sistemas empregada na Universidade da Integra ªo Internacional da Lusofonia Afro-Brasileira, visando a solu ªo de um problema recorrente causado pela falta de automa ªo de um processo tido como essencial na manuten ªo de bolsas e aux lios de assistŒncia estudantil. Dentre os resultados obtidos Ø poss vel verificar a eficiŒncia do mØtodo aplicado, bem como a rapidez na entrega da solu ªo.\n",
            "\n",
            "\n"
          ]
        }
      ],
      "source": [
        "result = re.findall(r'Resumo([\\S\\s]*?)1.', txt) \n",
        "\n",
        "for resumo in result:\n",
        "  print (resumo)\n",
        "  print (\"\\n\")\n"
      ]
    },
    {
      "cell_type": "code",
      "execution_count": null,
      "metadata": {
        "colab": {
          "base_uri": "https://localhost:8080/"
        },
        "id": "58M8A8RsDwV8",
        "outputId": "fc4f0c57-3a35-4b26-b884-d0386821d893"
      },
      "outputs": [
        {
          "name": "stdout",
          "output_type": "stream",
          "text": [
            "Reading package lists... Done\n",
            "Building dependency tree       \n",
            "Reading state information... Done\n",
            "python3-pypdf2 is already the newest version (1.26.0-3ubuntu1).\n",
            "0 upgraded, 0 newly installed, 0 to remove and 23 not upgraded.\n"
          ]
        }
      ],
      "source": [
        "!apt-get install python3-pypdf2"
      ]
    },
    {
      "cell_type": "markdown",
      "metadata": {
        "id": "rraTorPSKzBb"
      },
      "source": [
        "#Script que transforma o pdf em txt:\n"
      ]
    },
    {
      "cell_type": "code",
      "execution_count": 3,
      "metadata": {
        "colab": {
          "base_uri": "https://localhost:8080/"
        },
        "id": "rlB-mgxNFSy8",
        "outputId": "a7c44446-1b3f-4c37-a475-a35325e0cd3f"
      },
      "outputs": [
        {
          "name": "stdout",
          "output_type": "stream",
          "text": [
            "Collecting aspose-words\n",
            "  Downloading aspose_words-23.3.0-py3-none-manylinux1_x86_64.whl (82.8 MB)\n",
            "\u001b[2K     \u001b[38;2;114;156;31m━━━━━━━━━━━━━━━━━━━━━━━━━━━━━━━━━━━━━━━\u001b[0m \u001b[32m82.8/82.8 MB\u001b[0m \u001b[31m717.7 kB/s\u001b[0m eta \u001b[36m0:00:00\u001b[0mm eta \u001b[36m0:00:01\u001b[0m[36m0:00:04\u001b[0m\n",
            "\u001b[?25hInstalling collected packages: aspose-words\n",
            "Successfully installed aspose-words-23.3.0\n"
          ]
        }
      ],
      "source": [
        "!pip install aspose-words"
      ]
    },
    {
      "cell_type": "code",
      "execution_count": 4,
      "metadata": {
        "colab": {
          "base_uri": "https://localhost:8080/"
        },
        "id": "mygCxtkjXFKi",
        "outputId": "2610d29f-d3de-4d75-a2fb-46f52b5b81b1"
      },
      "outputs": [
        {
          "name": "stdout",
          "output_type": "stream",
          "text": [
            "/home/daniel/Dev/python/wticifes\n"
          ]
        }
      ],
      "source": [
        "!pwd"
      ]
    },
    {
      "cell_type": "code",
      "execution_count": 1,
      "metadata": {
        "colab": {
          "base_uri": "https://localhost:8080/",
          "height": 237
        },
        "id": "i7t-TdoVE_pX",
        "outputId": "d3289fce-c8ae-42a4-f0b1-6bae8c5ee9ad"
      },
      "outputs": [
        {
          "ename": "",
          "evalue": "",
          "output_type": "error",
          "traceback": [
            "\u001b[1;31mCanceled future for execute_request message before replies were done"
          ]
        },
        {
          "ename": "",
          "evalue": "",
          "output_type": "error",
          "traceback": [
            "\u001b[1;31mO Kernel falhou ao executar o código na célula atual ou em uma célula anterior. Examine o código nas células para identificar uma possível causa da falha. Clique <a href=\"https://aka.ms/vscodeJupyterKernelCrash\">aqui</a> para obter mais informações. Consulte o <a href='command:jupyter.viewOutput'>log</a> do Jupyter para obter mais detalhes."
          ]
        }
      ],
      "source": [
        "import aspose.words as aw\n",
        "\n",
        "doc = aw.Document(\"Ebook-WTICIFES2019.pdf\")\n",
        "doc.save(\"txt.txt\")\n"
      ]
    },
    {
      "cell_type": "code",
      "execution_count": null,
      "metadata": {
        "colab": {
          "base_uri": "https://localhost:8080/"
        },
        "id": "kYaRMGPxRnMs",
        "outputId": "c788b293-8167-4ade-b36a-3f499243bdf5"
      },
      "outputs": [
        {
          "name": "stdout",
          "output_type": "stream",
          "text": [
            "Page Number: 390\n",
            "/><WORKSHOP DE TECNOLOGIA DAINFORMAÇÃO E COMUNICAÇÃODAS INSTITUIÇÕES FEDERAISDE ENSINO SUPERIOR13a EDIÇÃO | V. 1\n"
          ]
        }
      ],
      "source": [
        "# importing required modules\n",
        "import PyPDF2\n",
        "\n",
        "# create a pdf file object\n",
        "pdfFileObj = open('/content/sample_data/Cópia de Ebook-WTICIFES2019.pdf', 'rb')\n",
        "\n",
        "# create a pdf reader object\n",
        "pdfReader = PyPDF2.PdfFileReader(pdfFileObj)\n",
        "numPag=pdfReader.numPages\n",
        "# print number of pages in the pdf file\n",
        "print(\"Page Number:\", pdfReader.numPages)\n",
        "\n",
        "# create a page object\n",
        "pageObj = pdfReader.getPage(0)\n",
        "\n",
        "\n",
        "# extract text from page\n",
        "for i in numPag:\n",
        "  text = pageObj.extractText()\n",
        "\n",
        "# display just the text\n",
        "print(text)\n",
        "\n",
        "# save to a text file for later use\n",
        "# copy the path where the script and pdf is placed\n",
        "file1=open(r\"/content/sample_data/txt.txt\",\"a\")\n",
        "file1.writelines(text)\n",
        "\n",
        "# closing the pdf file object\n",
        "pdfFileObj.close()\n",
        "\n",
        "# closing the text file object\n",
        "file1.close()"
      ]
    }
  ],
  "metadata": {
    "colab": {
      "provenance": []
    },
    "kernelspec": {
      "display_name": "Python 3",
      "name": "python3"
    },
    "language_info": {
      "codemirror_mode": {
        "name": "ipython",
        "version": 3
      },
      "file_extension": ".py",
      "mimetype": "text/x-python",
      "name": "python",
      "nbconvert_exporter": "python",
      "pygments_lexer": "ipython3",
      "version": "3.10.6"
    }
  },
  "nbformat": 4,
  "nbformat_minor": 0
}
